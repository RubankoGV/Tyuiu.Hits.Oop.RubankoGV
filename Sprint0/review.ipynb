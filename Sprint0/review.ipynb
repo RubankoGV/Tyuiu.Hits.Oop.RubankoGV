{
 "cells": [
  {
   "cell_type": "code",
   "execution_count": null,
   "id": "d27a96ea",
   "metadata": {},
   "outputs": [
    {
     "name": "stdout",
     "output_type": "stream",
     "text": [
      "Растение Бамбук выросло на 5 см, текущая высота: 15 см\n",
      "Растение Бамбук (Трава) цветет... \n",
      "Роза (Цветок) цвета белый цветет...\n",
      "Количество лепестков цветка 7, он увядает...\n",
      "Дерево Береза теперь старше на 5 лет, текущий возраст: 48 лет\n",
      "Береза (Дерево) с типом листьев лиственные цветет...\n"
     ]
    }
   ],
   "source": [
    "public class Plant\n",
    "{\n",
    "    public string Name { get; set; }\n",
    "    public string Type { get; set; }\n",
    "    public float Height { get; set; }\n",
    "\n",
    "    public virtual void Bloom() \n",
    "    {\n",
    "        Console.WriteLine($\"Растение {Name} ({Type}) цветет... \");\n",
    "    }\n",
    "\n",
    "    public void Grow(float amount) \n",
    "    {\n",
    "        Height += amount;\n",
    "        Console.WriteLine($\"Растение {Name} выросло на {amount} см, текущая высота: {Height} см\");\n",
    "    }\n",
    "}\n",
    "\n",
    "var plant = new Plant { Name = \"Бамбук\", Type = \"Трава\", Height = 10.0f };\n",
    "plant.Grow(5.0f);\n",
    "plant.Bloom();\n",
    "public class Flower : Plant\n",
    "{\n",
    "    public string Color { get; set; }\n",
    "    public string Count { get; set; }\n",
    "\n",
    "    public override void Bloom() \n",
    "    {\n",
    "        Console.WriteLine($\"{Name} ({Type}) цвета {Color} цветет...\");\n",
    "    }\n",
    "\n",
    "    public void Lepestok() \n",
    "    {\n",
    "        Console.WriteLine($\"Количество лепестков цветка {Count}, он увядает...\");\n",
    "    }\n",
    "}\n",
    "\n",
    "var flower = new Flower { Name = \"Роза\", Type = \"Цветок\", Height = 15.0f, Color = \"белый\", Count = \"7\" };\n",
    "flower.Bloom();\n",
    "flower.Lepestok();\n",
    "public class Tree : Plant\n",
    "{\n",
    "    public int Age { get; set; }\n",
    "    public string LeafType { get; set; }\n",
    "\n",
    "    public override void Bloom() \n",
    "    {\n",
    "        Console.WriteLine($\"{Name} ({Type}) с типом листьев {LeafType} цветет...\");\n",
    "    }\n",
    "\n",
    "    public void AgeUp(int amount) \n",
    "    {\n",
    "        Age += amount;\n",
    "        Console.WriteLine($\"Дерево {Name} теперь старше на {amount} лет, текущий возраст: {Age} лет\");\n",
    "    }\n",
    "}\n",
    "\n",
    "var tree = new Tree { Name = \"Береза\", Type = \"Дерево\", Age = 43, LeafType = \"лиственные\" };\n",
    "tree.AgeUp(5);\n",
    "tree.Bloom();\n",
    "\n"
   ]
  },
  {
   "cell_type": "markdown",
   "id": "0f537ef1",
   "metadata": {},
   "source": [
    "Полифоризм"
   ]
  },
  {
   "cell_type": "code",
   "execution_count": 16,
   "id": "8e308b27",
   "metadata": {},
   "outputs": [
    {
     "name": "stdout",
     "output_type": "stream",
     "text": [
      "Цветок Гортензия распускается и радует глаза!\n",
      "Дерево Ель покрывается новыми листьями!\n"
     ]
    }
   ],
   "source": [
    "public class Plant\n",
    "{\n",
    "    public string Name { get; set; }\n",
    "    public string Type { get; set; }\n",
    "    public float Height { get; set; }\n",
    "\n",
    "    public virtual void Bloom()\n",
    "    {\n",
    "        Console.WriteLine($\"{Name} ({Type}) цветет.\");\n",
    "    }\n",
    "}\n",
    "\n",
    "public class Flower : Plant\n",
    "{\n",
    "    public string Color { get; set; }\n",
    "    public int PetalCount { get; set; }\n",
    "\n",
    "    public override void Bloom()\n",
    "    {\n",
    "        Console.WriteLine($\"Цветок {Name} распускается и радует глаза!\");\n",
    "    }\n",
    "}\n",
    "\n",
    "public class Tree : Plant\n",
    "{\n",
    "    public int Age { get; set; }\n",
    "    public string LeafType { get; set; }\n",
    "\n",
    "    public override void Bloom()\n",
    "    {\n",
    "        Console.WriteLine($\"Дерево {Name} покрывается новыми листьями!\");\n",
    "    }\n",
    "}\n",
    "\n",
    "Plant myFlower = new Flower { Name = \"Гортензия\", Type = \"Цветок\", Height = 40.0f };\n",
    "myFlower.Bloom();\n",
    "Plant myTree = new Tree { Name = \"Ель\", Type = \"Дерево\", Height = 300.0f };\n",
    "myTree.Bloom();"
   ]
  }
 ],
 "metadata": {
  "kernelspec": {
   "display_name": ".NET (C#)",
   "language": "C#",
   "name": ".net-csharp"
  },
  "language_info": {
   "name": "polyglot-notebook"
  },
  "polyglot_notebook": {
   "kernelInfo": {
    "defaultKernelName": "csharp",
    "items": [
     {
      "aliases": [],
      "name": "csharp"
     }
    ]
   }
  }
 },
 "nbformat": 4,
 "nbformat_minor": 5
}
