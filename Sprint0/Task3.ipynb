{
 "cells": [
  {
   "cell_type": "markdown",
   "metadata": {},
   "source": [
    "<h1 style=\"color:DodgerBlue\">Индивидальный проект</h1>"
   ]
  },
  {
   "cell_type": "markdown",
   "metadata": {},
   "source": []
  },
  {
   "cell_type": "markdown",
   "metadata": {},
   "source": [
    "<h2 style=\"color:DodgerBlue\">Название проекта: Subscription</h2>\n",
    "\n",
    "----\n",
    "\n",
    "### Вариант задания 19\n"
   ]
  },
  {
   "cell_type": "markdown",
   "metadata": {},
   "source": [
    "<h2 style=\"color:DodgerBlue\">Описание проекта:</h2>\n",
    "\n",
    "----\n",
    "\n",
    "Создать базовый класс Subscription в C#, который будет представлять подписки на различные услуги. На основе этого класса разработать 2-3 производных класса, демонстрирующих принципы наследования и полиморфизма. В каждом из классов должны быть реализованы новые атрибуты и методы, а также переопределены некоторые методы базового класса для демонстрации полиморфизма. Требования к базовому классу Subscription: • Атрибуты: ID подписки (SubscriptionId), Название услуги (ServiceName), Стоимость подписки (Cost). • Методы: o CalculateMonthlyCost(): метод для расчета ежемесячной стоимости подписки. o ExtendSubscription(): метод дополнительный период. для продления подписки o GetSubscriptionDetails(): метод для получения деталей подписки. Требования к производным классам: на 1. ПодпискаНаОнлайнСервис (OnlineServiceSubscription): Должна содержать дополнительные атрибуты, такие как Количество доступных пользователей (MaxUsers). Метод CalculateMonthlyCost() должен быть переопределен для учета количества пользователей при расчете стоимости. 2. ПодпискаНаСтreamинг (StreamingSubscription): Должна содержать дополнительные атрибуты, такие как Количество одновременных потоков (MaxStreams). Метод ExtendSubscription() должен быть переопределен для добавления специальных предложений для продления подписки. 3. ПодпискаНаВидео(VideoSubscription) (если требуется третий класс): Должна содержать дополнительные атрибуты, такие как Качество видео (VideoQuality). Метод GetSubscriptionDetails() должен быть переопределен для отображения качества видео вместе с другими деталями подписки. \n"
   ]
  },
  {
   "cell_type": "markdown",
   "metadata": {},
   "source": [
    "<h2 style=\"color:DodgerBlue\">Реализация:</h2>\n",
    "\n",
    "----"
   ]
  },
  {
   "cell_type": "code",
   "execution_count": 19,
   "metadata": {
    "dotnet_interactive": {
     "language": "csharp"
    },
    "polyglot_notebook": {
     "kernelName": "csharp"
    }
   },
   "outputs": [
    {
     "name": "stdout",
     "output_type": "stream",
     "text": [
      "Online Service:\n",
      "5000 - цена подписки для всех пользователей\n",
      "Айди: 1, название услуги: Office 365\n",
      "\n",
      "Streaming Service:\n",
      "Продление подписки на 7 месяцев\n",
      "Айди: 2, название услуги: Netflix\n",
      "\n",
      "Video Service:\n",
      "Айди: 3, название услуги: YouTube Premium, качество видео: 1080\n",
      "300 - цена подписки\n"
     ]
    }
   ],
   "source": [
    "public interface ISubscription {\n",
    "    int SubscriptionId { get; set; }\n",
    "    string ServiceName { get; set; }\n",
    "    int Cost { get; set; }\n",
    "\n",
    "    void CalculateMonthlyCost();\n",
    "    void ExtendSubscription(int months);\n",
    "    void GetSubscriptionDetails();\n",
    "}\n",
    "\n",
    "public interface IOnlineServiceSubscription : ISubscription {\n",
    "    int MaxUsers { get; set; }\n",
    "}\n",
    "\n",
    "public interface IStreamingSubscription : ISubscription {\n",
    "    int MaxStreams { get; set; }\n",
    "}\n",
    "\n",
    "public interface IVideoSubscription : ISubscription {\n",
    "    int VideoQuality { get; set; }\n",
    "}\n",
    "\n",
    "public class Subscription : ISubscription {\n",
    "\n",
    "    public int SubscriptionId { get; set; }\n",
    "    public string ServiceName { get; set; }\n",
    "    public int Cost { get; set; }\n",
    "\n",
    "    public Subscription(int subscriptionId, string serviceName, int cost)\n",
    "    {\n",
    "        SubscriptionId = subscriptionId;\n",
    "        ServiceName = serviceName;\n",
    "        Cost = cost;\n",
    "    }\n",
    "\n",
    "    public virtual void CalculateMonthlyCost() {\n",
    "        Console.WriteLine($\"{Cost} - цена подписки\");\n",
    "    }\n",
    "\n",
    "    public virtual void ExtendSubscription(int months) {\n",
    "        Console.WriteLine($\"Продление подписки на {months} месяцев\");\n",
    "    }\n",
    "\n",
    "    public virtual void GetSubscriptionDetails() {\n",
    "    Console.WriteLine($\"Айди: {SubscriptionId}, название услуги: {ServiceName}\");\n",
    "}\n",
    "    \n",
    "}\n",
    "\n",
    "public class OnlineServiceSubscription : Subscription, IOnlineServiceSubscription {\n",
    "\n",
    "    public int MaxUsers { get; set; }\n",
    "\n",
    "    public OnlineServiceSubscription(int subscriptionId, string serviceName, int cost, int maxUsers)\n",
    "     : base (subscriptionId, serviceName, cost)\n",
    "    {\n",
    "        MaxUsers = maxUsers;\n",
    "    }\n",
    "\n",
    "    public override void CalculateMonthlyCost() {\n",
    "        Console.WriteLine($\"{Cost * MaxUsers} - цена подписки для всех пользователей\");\n",
    "    }\n",
    "}\n",
    "\n",
    "public class StreamingSubscription : Subscription, IStreamingSubscription {\n",
    "\n",
    "    public int MaxStreams { get; set; }\n",
    "\n",
    "    public StreamingSubscription(int subscriptionId, string serviceName, int cost, int maxStreams)\n",
    "     : base (subscriptionId, serviceName, cost)\n",
    "    {\n",
    "        MaxStreams = maxStreams;\n",
    "    }\n",
    "\n",
    "    public override void ExtendSubscription(int months) {\n",
    "        int bonusMonths = months >= 6 ? 1 : 0;\n",
    "        Console.WriteLine($\"Продление подписки на {months + bonusMonths} месяцев\");\n",
    "    }\n",
    "}\n",
    "\n",
    "public class VideoSubscription : Subscription, IVideoSubscription {\n",
    "\n",
    "    public int VideoQuality { get; set; }\n",
    "\n",
    "    public VideoSubscription(int subscriptionId, string serviceName, int cost, int videoQuality)\n",
    "     : base (subscriptionId, serviceName, cost)\n",
    "    {\n",
    "        VideoQuality = videoQuality;\n",
    "    }\n",
    "\n",
    "    public override void GetSubscriptionDetails() {\n",
    "        Console.WriteLine($\"Айди: {SubscriptionId}, название услуги: {ServiceName}, качество видео: {VideoQuality}\");\n",
    "    }\n",
    "}\n",
    "\n",
    "        var onlineService = new OnlineServiceSubscription(1, \"Office 365\", 1000, 5);\n",
    "        var streamingService = new StreamingSubscription(2, \"Netflix\", 500, 3);\n",
    "        var videoService = new VideoSubscription(3, \"YouTube Premium\", 300, 1080);\n",
    "    \n",
    "        Console.WriteLine(\"Online Service:\");\n",
    "        onlineService.CalculateMonthlyCost();\n",
    "        onlineService.GetSubscriptionDetails();\n",
    "        \n",
    "        Console.WriteLine(\"\\nStreaming Service:\");\n",
    "        streamingService.ExtendSubscription(6);\n",
    "        streamingService.GetSubscriptionDetails();\n",
    "        \n",
    "        Console.WriteLine(\"\\nVideo Service:\");\n",
    "        videoService.GetSubscriptionDetails();\n",
    "        videoService.CalculateMonthlyCost();"
   ]
  }
 ],
 "metadata": {
  "kernelspec": {
   "display_name": ".NET (C#)",
   "language": "C#",
   "name": ".net-csharp"
  },
  "polyglot_notebook": {
   "kernelInfo": {
    "defaultKernelName": "csharp",
    "items": [
     {
      "aliases": [],
      "languageName": "csharp",
      "name": "csharp"
     }
    ]
   }
  }
 },
 "nbformat": 4,
 "nbformat_minor": 2
}
